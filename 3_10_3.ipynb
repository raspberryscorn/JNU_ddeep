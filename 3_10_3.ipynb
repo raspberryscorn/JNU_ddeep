{
  "nbformat": 4,
  "nbformat_minor": 0,
  "metadata": {
    "colab": {
      "provenance": [],
      "authorship_tag": "ABX9TyN6LZUchuM+0W1OP8jW6ih6",
      "include_colab_link": true
    },
    "kernelspec": {
      "name": "python3",
      "display_name": "Python 3"
    },
    "language_info": {
      "name": "python"
    }
  },
  "cells": [
    {
      "cell_type": "markdown",
      "metadata": {
        "id": "view-in-github",
        "colab_type": "text"
      },
      "source": [
        "<a href=\"https://colab.research.google.com/github/raspberryscorn/JNU_ddeep/blob/main/3_10_3.ipynb\" target=\"_parent\"><img src=\"https://colab.research.google.com/assets/colab-badge.svg\" alt=\"Open In Colab\"/></a>"
      ]
    },
    {
      "cell_type": "markdown",
      "source": [
        "# Download Model and Dataset\n",
        "로컬 PC에 저장되어 있는 소스파일을 github에 업로드한 후 colab에서 github에 저장된 소스파일 다운로드\n"
      ],
      "metadata": {
        "id": "11LPE4BmAyEj"
      }
    },
    {
      "cell_type": "code",
      "execution_count": null,
      "metadata": {
        "id": "MpP0Q17gAu5d"
      },
      "outputs": [],
      "source": [
        "!wget https://github.com/raspberryscorn/3_10_3/releases/download/cancer/data.zip"
      ]
    },
    {
      "cell_type": "markdown",
      "source": [
        "# Import\n",
        "프로그램에 필요한 모듈 선언"
      ],
      "metadata": {
        "id": "Yg6brOc4A3M5"
      }
    },
    {
      "cell_type": "code",
      "source": [
        "import random\n",
        "import os\n",
        "import time\n",
        "import zipfile\n",
        "\n",
        "import tensorflow as tf\n",
        "from PIL import Image\n",
        "import numpy as np\n",
        "import matplotlib.pyplot as plt\n",
        "\n",
        "from tensorflow import keras"
      ],
      "metadata": {
        "id": "Jox2SOpdA4PR"
      },
      "execution_count": null,
      "outputs": []
    },
    {
      "cell_type": "markdown",
      "source": [
        "# Unzip Dataset\n",
        "다운로드 받은 소스파일 압축 해제"
      ],
      "metadata": {
        "id": "6be1_ZrvA5hQ"
      }
    },
    {
      "cell_type": "code",
      "source": [
        "with zipfile.ZipFile(\"data.zip\", \"r\") as f:\n",
        "    f.extractall('./')"
      ],
      "metadata": {
        "id": "bS_OqvIgA7BQ"
      },
      "execution_count": null,
      "outputs": []
    },
    {
      "cell_type": "markdown",
      "source": [
        "# Unet"
      ],
      "metadata": {
        "id": "F2CJLKeTA8Zg"
      }
    },
    {
      "cell_type": "code",
      "source": [
        "# 인공신경망을 제작합니다.\n",
        "class Unet():\n",
        "  def graph(input_X, input_Y):\n",
        "      input = keras.layers.Input((input_X, input_Y, 3))\n",
        "\n",
        "      # 첫 번째 Convolution Block\n",
        "      Conv1 = keras.layers.Conv2D(16, (3, 3), activation=\"relu\", padding='same')(input)\n",
        "      Conv1 = keras.layers.Conv2D(16, (3, 3), activation=\"relu\", padding='same')(Conv1)\n",
        "      Pool1 = keras.layers.MaxPooling2D((2, 2)) (Conv1)\n",
        "\n",
        "      # 두 번째 Convolution Block\n",
        "      Conv2 = keras.layers.Conv2D(32, (3, 3), activation=\"relu\", padding='same')(Pool1)\n",
        "      Conv2 = keras.layers.Conv2D(32, (3, 3), activation=\"relu\", padding='same')(Conv2)\n",
        "      Pool2 = keras.layers.MaxPooling2D((2, 2))(Conv2)\n",
        "\n",
        "      # 세 번째 Convolution Block\n",
        "      Conv3 = keras.layers.Conv2D(64, (3, 3), activation=\"relu\", padding='same')(Pool2)\n",
        "      Conv3 = keras.layers.Conv2D(64, (3, 3), activation=\"relu\", padding='same')(Conv3)\n",
        "      Pool3 = keras.layers.MaxPooling2D((2, 2))(Conv3)\n",
        "\n",
        "      # 네 번째 Convolution Block\n",
        "      Conv4 = keras.layers.Conv2D(128, (3, 3), activation=\"relu\", padding='same')(Pool3)\n",
        "      Conv4 = keras.layers.Conv2D(128, (3, 3), activation=\"relu\", padding='same')(Conv4)\n",
        "      Pool4 = keras.layers.MaxPooling2D((2, 2))(Conv4)\n",
        "\n",
        "      # 다섯 번째 Convolution Block\n",
        "      Conv5 = keras.layers.Conv2D(256, (3, 3), activation=\"relu\", padding='same')(Pool4)\n",
        "      Conv5 = keras.layers.Conv2D(256, (3, 3), activation=\"relu\", padding='same')(Conv5)\n",
        "\n",
        "      # 첫 번째 Upsampling Block\n",
        "      Ups1 = keras.layers.Conv2DTranspose(128, (2, 2), strides=(2, 2), padding=\"same\")(Conv5)\n",
        "      Ups1 = keras.layers.Concatenate()([Ups1, Conv4])\n",
        "      Ups1_conv = keras.layers.Conv2D(128, (3, 3), activation=\"relu\", padding=\"same\")(Ups1)\n",
        "      Ups1_conv = keras.layers.Conv2D(128, (3, 3), activation=\"relu\", padding=\"same\")(Ups1_conv)\n",
        "\n",
        "      # 두 번째 Upsampling Block\n",
        "      Ups2 = keras.layers.Conv2DTranspose(64, (2, 2), strides=(2, 2), padding=\"same\")(Ups1_conv)\n",
        "      Ups2 = keras.layers.Concatenate()([Ups2, Conv3])\n",
        "      Ups2_conv = keras.layers.Conv2D(64, (3, 3), activation=\"relu\", padding=\"same\")(Ups2)\n",
        "      Ups2_conv = keras.layers.Conv2D(64, (3, 3), activation=\"relu\", padding=\"same\")(Ups2_conv)\n",
        "\n",
        "      # 세 번째 Upsampling Block\n",
        "      Ups3 = keras.layers.Conv2DTranspose(32, (2, 2), strides=(2, 2), padding=\"same\")(Ups2_conv)\n",
        "      Ups3 = keras.layers.Concatenate()([Ups3, Conv2])\n",
        "      Ups3_conv = keras.layers.Conv2D(32, (3, 3), activation=\"relu\", padding=\"same\")(Ups3)\n",
        "      Ups3_conv = keras.layers.Conv2D(32, (3, 3), activation=\"relu\", padding=\"same\")(Ups3_conv)\n",
        "\n",
        "      # 네 번째 Upsampling Block\n",
        "      Ups4 = keras.layers.Conv2DTranspose(16, (2, 2), strides=(2, 2), padding=\"same\")(Ups3_conv)\n",
        "      Ups4 = keras.layers.Concatenate()([Ups4, Conv1])\n",
        "      Ups4_conv = keras.layers.Conv2D(16, (3, 3), activation=\"relu\", padding=\"same\")(Ups4)\n",
        "      Ups4_conv = keras.layers.Conv2D(16, (3, 3), activation=\"relu\", padding=\"same\")(Ups4_conv)\n",
        "\n",
        "      output_logit = keras.layers.Conv2D(1, (1, 1))(Ups4_conv)\n",
        "\n",
        "      return keras.Model(inputs=input, outputs=output_logit)"
      ],
      "metadata": {
        "id": "J1pn1HQBA8Oo"
      },
      "execution_count": null,
      "outputs": []
    },
    {
      "cell_type": "markdown",
      "source": [
        "# Datareader"
      ],
      "metadata": {
        "id": "nv63ryfjBATY"
      }
    },
    {
      "cell_type": "code",
      "source": [
        "# 데이터를 떠먹여 줄 클래스를 제작합니다.\n",
        "class DataReader():\n",
        "    def __init__(self):\n",
        "        self.label = [\"Background\", \"Tumor\"]\n",
        "\n",
        "        self.train_X = []\n",
        "        self.train_Y = []\n",
        "        self.test_X = []\n",
        "        self.test_Y = []\n",
        "\n",
        "        self.read_data()\n",
        "\n",
        "    def read_data(self):\n",
        "        print(\"Reading Data...\")\n",
        "        images = os.listdir(\"data/images\")\n",
        "        annotations = os.listdir(\"data/annotations\")\n",
        "\n",
        "        images.sort()\n",
        "        annotations.sort()\n",
        "\n",
        "        data = []\n",
        "\n",
        "        for i in range(len(images)):\n",
        "            img = Image.open(\"data/images/\" + images[i])\n",
        "            ant = Image.open(\"data/annotations/\" + annotations[i])\n",
        "\n",
        "            if img.mode != \"RGB\":\n",
        "                img = img.convert(\"RGB\")\n",
        "\n",
        "            X = np.asarray(img) / 255.0\n",
        "\n",
        "            Y_temp = np.asarray(ant)[:, :, 0]\n",
        "            Y = np.zeros_like(Y_temp)\n",
        "            Y[Y_temp > 127.5] = 1.0\n",
        "\n",
        "            data.append((X, Y))\n",
        "            img.close()\n",
        "            ant.close()\n",
        "\n",
        "        random.shuffle(data)\n",
        "\n",
        "        for i, el in enumerate(data):\n",
        "            if i < 0.8*len(data):\n",
        "                self.train_X.append(el[0])\n",
        "                self.train_Y.append(el[1])\n",
        "            else:\n",
        "                self.test_X.append(el[0])\n",
        "                self.test_Y.append(el[1])\n",
        "\n",
        "        self.train_X = np.asarray(self.train_X)\n",
        "        self.train_Y = np.asarray(self.train_Y)\n",
        "        self.test_X = np.asarray(self.test_X)\n",
        "        self.test_Y = np.asarray(self.test_Y)\n",
        "\n",
        "        # 데이터 읽기가 완료되었습니다.\n",
        "        # 읽어온 데이터의 정보를 출력합니다.\n",
        "        print(\"\\n\\nData Read Done!\")\n",
        "        print(\"Training X Size : \" + str(self.train_X.shape))\n",
        "        print(\"Training Y Size : \" + str(self.train_Y.shape))\n",
        "        print(\"Test X Size : \" + str(self.test_X.shape))\n",
        "        print(\"Test Y Size : \" + str(self.test_Y.shape) + '\\n\\n')\n",
        "\n",
        "    def show_processed_image(self):\n",
        "        plt.figure(figsize=(15, 15))\n",
        "        image = self.train_X[0]\n",
        "        annotation = self.train_Y[0]\n",
        "        plt.subplot(1, 2, 1)\n",
        "        plt.title(\"images\")\n",
        "        plt.imshow(image)\n",
        "        plt.subplot(1, 2, 2)\n",
        "        plt.title(\"annotation\")\n",
        "        plt.imshow(annotation)\n",
        "\n",
        "\n",
        "def save_segmentation_results(image, mask_y, graph):\n",
        "    prediction = graph.predict(image)[:, :, :, 0]\n",
        "    prediction[prediction < 0] = 0\n",
        "    pred_mask = (np.copy(image)*255).astype(np.uint8)[:, :, :, 0]\n",
        "    pred_mask[prediction > 0.5] = 255\n",
        "\n",
        "    mask = (np.copy(image)*255).astype(np.uint8)[:, :, :, 0]\n",
        "    mask[mask_y > 0.5] = 255\n",
        "\n",
        "    image = (image * 255).astype(np.uint8)\n",
        "\n",
        "    template = np.copy(image)[:, :, :, 0]\n",
        "\n",
        "    mask = np.stack((template, mask, template), axis=3)\n",
        "    pred_mask = np.stack((template, template, pred_mask), axis=3)\n",
        "\n",
        "    if \"results\" not in os.listdir():\n",
        "        os.mkdir(\"results\")\n",
        "\n",
        "    for i in range(len(image)):\n",
        "        new_canvas = np.concatenate((image[i], mask[i], pred_mask[i]), axis=1)\n",
        "        img = Image.fromarray(new_canvas)\n",
        "        img.save(\"results/\" + str(time.time()) + \".jpg\")\n",
        "        img.close()\n",
        "\n",
        "    print(\"RESULT SAVED\")\n",
        "\n",
        "\n",
        "def draw_graph(history):\n",
        "    train_history = history.history[\"loss\"]\n",
        "    validation_history = history.history[\"val_loss\"]\n",
        "    fig = plt.figure(figsize=(8, 8))\n",
        "    plt.title(\"Loss History\")\n",
        "    plt.xlabel(\"EPOCH\")\n",
        "    plt.ylabel(\"LOSS Function\")\n",
        "    plt.plot(train_history, \"red\")\n",
        "    plt.plot(validation_history, 'blue')\n",
        "    fig.savefig(\"train_history.png\")\n",
        "\n",
        "    train_history = history.history[\"accuracy\"]\n",
        "    validation_history = history.history[\"val_accuracy\"]\n",
        "    fig = plt.figure(figsize=(8, 8))\n",
        "    plt.title(\"Accuracy History\")\n",
        "    plt.xlabel(\"EPOCH\")\n",
        "    plt.ylabel(\"Accuracy\")\n",
        "    plt.plot(train_history, \"red\")\n",
        "    plt.plot(validation_history, 'blue')\n",
        "    fig.savefig(\"accuracy_history.png\")"
      ],
      "metadata": {
        "id": "R8O4MZokBBoJ"
      },
      "execution_count": null,
      "outputs": []
    },
    {
      "cell_type": "markdown",
      "source": [
        "# Main"
      ],
      "metadata": {
        "id": "KGDpwVRxBDyh"
      }
    },
    {
      "cell_type": "code",
      "source": [
        "# 몇 에포크 만큼 학습을 시킬 것인지 결정합니다.\n",
        "EPOCHS = 50  # 예제 기본값은 50입니다.\n",
        "\n",
        "# 데이터를 읽어옵니다.\n",
        "dr = DataReader()\n",
        "\n",
        "# U-Net을 불러옵니다.\n",
        "model = Unet.graph(128, 128)\n",
        "\n",
        "# 인공신경망을 컴파일합니다.\n",
        "loss = keras.losses.BinaryCrossentropy(from_logits=True)\n",
        "model.compile(optimizer=\"adam\", loss=loss, metrics=['accuracy'])\n",
        "\n",
        "# 인공신경망을 학습시킵니다.\n",
        "print(\"\\n\\n************ TRAINING START ************ \")\n",
        "early_stop = keras.callbacks.EarlyStopping(monitor='val_loss', patience=10)\n",
        "history = model.fit(dr.train_X, dr.train_Y, epochs=EPOCHS,\n",
        "                    validation_data=(dr.test_X, dr.test_Y),\n",
        "                    callbacks=[early_stop])\n",
        "\n",
        "# Segmentation 결과를 저장합니다.\n",
        "save_segmentation_results(dr.test_X, dr.test_Y, model)\n",
        "\n",
        "# 학습 결과를 그래프로 출력합니다.\n",
        "draw_graph(history)"
      ],
      "metadata": {
        "id": "QihIRRoFBGRo"
      },
      "execution_count": null,
      "outputs": []
    }
  ]
}
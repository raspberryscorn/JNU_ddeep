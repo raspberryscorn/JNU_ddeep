{
  "nbformat": 4,
  "nbformat_minor": 0,
  "metadata": {
    "colab": {
      "provenance": [],
      "gpuType": "T4",
      "authorship_tag": "ABX9TyOnwk9JVvGK8LWII1vF0fUK",
      "include_colab_link": true
    },
    "kernelspec": {
      "name": "python3",
      "display_name": "Python 3"
    },
    "language_info": {
      "name": "python"
    },
    "accelerator": "GPU"
  },
  "cells": [
    {
      "cell_type": "markdown",
      "metadata": {
        "id": "view-in-github",
        "colab_type": "text"
      },
      "source": [
        "<a href=\"https://colab.research.google.com/github/raspberryscorn/JNU_ddeep/blob/main/3_10_2.ipynb\" target=\"_parent\"><img src=\"https://colab.research.google.com/assets/colab-badge.svg\" alt=\"Open In Colab\"/></a>"
      ]
    },
    {
      "cell_type": "markdown",
      "source": [
        "# Download Model and Dataset"
      ],
      "metadata": {
        "id": "yUeqB7RH9ONE"
      }
    },
    {
      "cell_type": "code",
      "execution_count": null,
      "metadata": {
        "id": "HOxGNh908sLs"
      },
      "outputs": [],
      "source": [
        "!wget https://github.com/raspberryscorn/3_10_2/releases/download/cancer/data.zip"
      ]
    },
    {
      "cell_type": "markdown",
      "source": [
        "# Import"
      ],
      "metadata": {
        "id": "8zZpEkKn9UvT"
      }
    },
    {
      "cell_type": "code",
      "source": [
        "import os\n",
        "import random\n",
        "import time\n",
        "\n",
        "from matplotlib import pyplot as plt\n",
        "import numpy as np\n",
        "from PIL import Image\n",
        "from tensorflow import keras\n",
        "\n",
        "import zipfile"
      ],
      "metadata": {
        "id": "472dPtIt9Wda"
      },
      "execution_count": 5,
      "outputs": []
    },
    {
      "cell_type": "markdown",
      "source": [
        "# Unzip Dataset"
      ],
      "metadata": {
        "id": "qFKHPqEz-C8L"
      }
    },
    {
      "cell_type": "code",
      "source": [
        "with zipfile.ZipFile(\"data.zip\", \"r\") as f:\n",
        "    f.extractall('./')"
      ],
      "metadata": {
        "id": "1H619x3--FGS"
      },
      "execution_count": 6,
      "outputs": []
    },
    {
      "cell_type": "markdown",
      "source": [
        "# Datareader"
      ],
      "metadata": {
        "id": "VOpbi_AS9WUL"
      }
    },
    {
      "cell_type": "code",
      "source": [
        "try:\n",
        "    from matplotlib import pyplot as plt\n",
        "except ModuleNotFoundError:\n",
        "    import pip\n",
        "    pip.main(['install', 'matplotlib'])\n",
        "    try:\n",
        "        from matplotlib import pyplot as plt\n",
        "    except ModuleNotFoundError:\n",
        "        time.sleep(2)\n",
        "        from matplotlib import pyplot as plt\n",
        "\n",
        "try:\n",
        "    import numpy as np\n",
        "except ModuleNotFoundError:\n",
        "    import pip\n",
        "    pip.main(['install', 'numpy'])\n",
        "    try:\n",
        "        import numpy as np\n",
        "    except ModuleNotFoundError:\n",
        "        time.sleep(2)\n",
        "        import numpy as np\n",
        "\n",
        "try:\n",
        "    from PIL import Image\n",
        "\n",
        "except ModuleNotFoundError:\n",
        "    import pip\n",
        "    pip.main(['install', 'pillow'])\n",
        "    try:\n",
        "        from PIL import Image\n",
        "    except ModuleNotFoundError:\n",
        "        time.sleep(2)\n",
        "        from PIL import Image\n",
        "\n",
        "# 데이터를 떠먹여 줄 클래스를 제작합니다.\n",
        "class DataReader():\n",
        "    def __init__(self):\n",
        "        self.label = [\"Tumor\", \"Stroma\", \"Complex\", \"Lympho\", \"Debris\", \"Mucosa\", \"Adipose\", \"Empty\"]\n",
        "\n",
        "        self.train_X = []\n",
        "        self.train_Y = []\n",
        "        self.test_X = []\n",
        "        self.test_Y = []\n",
        "\n",
        "        self.read_images()\n",
        "\n",
        "    def read_images(self):\n",
        "        data = []\n",
        "        print(\"Reading Data...\")\n",
        "        classes = os.listdir(\"data\")\n",
        "        for i, cls in enumerate(classes):\n",
        "            print(\"Opening \" + cls + \"/\")\n",
        "            for el in os.listdir(\"data/\" + cls):\n",
        "                img = Image.open(\"data/\" + cls + \"/\" + el)\n",
        "                data.append((np.asarray(img), i))\n",
        "                img.close()\n",
        "\n",
        "        random.shuffle(data)\n",
        "\n",
        "        for i in range(len(data)):\n",
        "            if i < 0.8*len(data):\n",
        "                self.train_X.append(data[i][0])\n",
        "                self.train_Y.append(data[i][1])\n",
        "            else:\n",
        "                self.test_X.append(data[i][0])\n",
        "                self.test_Y.append(data[i][1])\n",
        "\n",
        "        self.train_X = np.asarray(self.train_X) / 255.0\n",
        "        self.train_Y = np.asarray(self.train_Y)\n",
        "        self.test_X = np.asarray(self.test_X) / 255.0\n",
        "        self.test_Y = np.asarray(self.test_Y)\n",
        "\n",
        "        # 데이터 읽기가 완료되었습니다.\n",
        "        # 읽어온 데이터의 정보를 출력합니다.\n",
        "        print(\"\\n\\nData Read Done!\")\n",
        "        print(\"Training X Size : \" + str(self.train_X.shape))\n",
        "        print(\"Training Y Size : \" + str(self.train_Y.shape))\n",
        "        print(\"Test X Size : \" + str(self.test_X.shape))\n",
        "        print(\"Test Y Size : \" + str(self.test_Y.shape) + '\\n\\n')\n",
        "\n",
        "    def show_processed_images(self):\n",
        "        plt.figure(figsize=(10, 10))\n",
        "        for i in range(25):\n",
        "            plt.subplot(5, 5, i + 1)\n",
        "            plt.xticks([])\n",
        "            plt.yticks([])\n",
        "            plt.grid(False)\n",
        "            plt.imshow(self.train_X[i], cmap=plt.cm.binary)\n",
        "            plt.xlabel(self.label[int(self.train_Y[i])])\n",
        "        plt.show()\n",
        "\n",
        "\n",
        "def draw_graph(history):\n",
        "    train_history = history.history[\"loss\"]\n",
        "    validation_history = history.history[\"val_loss\"]\n",
        "    fig = plt.figure(figsize=(8, 8))\n",
        "    plt.title(\"Loss History\")\n",
        "    plt.xlabel(\"EPOCH\")\n",
        "    plt.ylabel(\"LOSS Function\")\n",
        "    plt.plot(train_history, \"red\")\n",
        "    plt.plot(validation_history, 'blue')\n",
        "    fig.savefig(\"train_history.png\")\n",
        "\n",
        "    train_history = history.history[\"accuracy\"]\n",
        "    validation_history = history.history[\"val_accuracy\"]\n",
        "    fig = plt.figure(figsize=(8, 8))\n",
        "    plt.title(\"Accuracy History\")\n",
        "    plt.xlabel(\"EPOCH\")\n",
        "    plt.ylabel(\"Accuracy\")\n",
        "    plt.plot(train_history, \"red\")\n",
        "    plt.plot(validation_history, 'blue')\n",
        "    fig.savefig(\"accuracy_history.png\")"
      ],
      "metadata": {
        "id": "XhUmphTk9nJr"
      },
      "execution_count": 7,
      "outputs": []
    },
    {
      "cell_type": "markdown",
      "source": [
        "# Main"
      ],
      "metadata": {
        "id": "7zzpNiB69v7z"
      }
    },
    {
      "cell_type": "code",
      "source": [
        "# 몇 에포크 만큼 학습을 시킬 것인지 결정합니다.\n",
        "EPOCHS = 20  # 예제 기본값은 20입니다.\n",
        "\n",
        "# 데이터를 읽어옵니다.\n",
        "dr = DataReader()\n",
        "\n",
        "# 인공신경망을 제작합니다.\n",
        "model = keras.Sequential([\n",
        "    keras.layers.Conv2D(16, (3, 3), activation=\"relu\"),\n",
        "    keras.layers.MaxPooling2D((2, 2)),\n",
        "    keras.layers.Conv2D(32, (3, 3), activation='relu'),\n",
        "    keras.layers.MaxPooling2D((2, 2)),\n",
        "    keras.layers.Conv2D(64, (3, 3), activation='relu'),\n",
        "    keras.layers.MaxPooling2D((2, 2)),\n",
        "    keras.layers.Conv2D(64, (3, 3), activation='relu'),\n",
        "    keras.layers.MaxPooling2D((2, 2)),\n",
        "    keras.layers.Conv2D(64, (3, 3), activation='relu'),\n",
        "    keras.layers.MaxPooling2D((2, 2)),\n",
        "    keras.layers.Flatten(),\n",
        "    keras.layers.Dense(512, activation='relu'),\n",
        "    keras.layers.Dense(8, activation=\"softmax\")\n",
        "])\n",
        "\n",
        "# 인공신경망을 컴파일합니다.\n",
        "model.compile(optimizer='adam', metrics=['accuracy'],\n",
        "              loss='sparse_categorical_crossentropy')\n",
        "\n",
        "# 인공신경망을 학습시킵니다.\n",
        "print(\"\\n\\n************ TRAINING START ************ \")\n",
        "early_stop = keras.callbacks.EarlyStopping(monitor='val_loss', patience=10)\n",
        "history = model.fit(dr.train_X, dr.train_Y, epochs=EPOCHS,\n",
        "                    validation_data=(dr.test_X, dr.test_Y),\n",
        "                    callbacks=[early_stop])\n",
        "\n",
        "# 학습 결과를 그래프로 출력합니다.\n",
        "draw_graph(history)"
      ],
      "metadata": {
        "id": "yVohTR3T9xXz"
      },
      "execution_count": null,
      "outputs": []
    }
  ]
}